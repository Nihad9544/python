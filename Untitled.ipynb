{
 "cells": [
  {
   "cell_type": "code",
   "execution_count": 1,
   "id": "97ae4e35-517f-46db-aaae-1cbd87ebbbcd",
   "metadata": {},
   "outputs": [
    {
     "name": "stdout",
     "output_type": "stream",
     "text": [
      "good morning\n"
     ]
    }
   ],
   "source": [
    "print(\"good morning\")"
   ]
  },
  {
   "cell_type": "code",
   "execution_count": 2,
   "id": "a9febdff-4a01-42ef-8463-07bea88ea346",
   "metadata": {},
   "outputs": [
    {
     "name": "stdout",
     "output_type": "stream",
     "text": [
      "chalakkal(h)\n",
      "kodiyathoor(po)\n",
      "mukkam(vi)\n",
      "calicut\n"
     ]
    }
   ],
   "source": [
    "print(\"chalakkal(h)\\nkodiyathoor(po)\\nmukkam(vi)\\ncalicut\")"
   ]
  },
  {
   "cell_type": "code",
   "execution_count": 3,
   "id": "def17b46-3fcf-426f-ad2f-b1dcf7c4f2ce",
   "metadata": {},
   "outputs": [
    {
     "name": "stdout",
     "output_type": "stream",
     "text": [
      "2.5\n"
     ]
    }
   ],
   "source": [
    "print(5/2)"
   ]
  },
  {
   "cell_type": "code",
   "execution_count": 4,
   "id": "1cf48691-ca84-4436-a016-3b5e298f028c",
   "metadata": {},
   "outputs": [
    {
     "name": "stdout",
     "output_type": "stream",
     "text": [
      "2\n"
     ]
    }
   ],
   "source": [
    "print(5//2)"
   ]
  },
  {
   "cell_type": "code",
   "execution_count": 5,
   "id": "d7e500c7-397f-4239-b1e0-0ee72b7869c2",
   "metadata": {},
   "outputs": [
    {
     "name": "stdout",
     "output_type": "stream",
     "text": [
      "8\n"
     ]
    }
   ],
   "source": [
    "print(2*2*2)"
   ]
  },
  {
   "cell_type": "code",
   "execution_count": 6,
   "id": "eb0a66b0-cdc5-4ddc-9cad-016d1cff9406",
   "metadata": {},
   "outputs": [
    {
     "name": "stdout",
     "output_type": "stream",
     "text": [
      "4\n"
     ]
    }
   ],
   "source": [
    "print(2**2)"
   ]
  },
  {
   "cell_type": "code",
   "execution_count": 7,
   "id": "f5a4a939-514f-4a62-a107-d4ca64dcef7b",
   "metadata": {},
   "outputs": [
    {
     "name": "stdout",
     "output_type": "stream",
     "text": [
      "mca students\n"
     ]
    }
   ],
   "source": [
    "print(\"mca students\")"
   ]
  },
  {
   "cell_type": "code",
   "execution_count": 8,
   "id": "8e93f2f6-8e51-4b45-8436-b115e6a7f7d3",
   "metadata": {},
   "outputs": [
    {
     "ename": "SyntaxError",
     "evalue": "invalid syntax. Perhaps you forgot a comma? (3757088611.py, line 1)",
     "output_type": "error",
     "traceback": [
      "\u001b[0;36m  Cell \u001b[0;32mIn[8], line 1\u001b[0;36m\u001b[0m\n\u001b[0;31m    print(\"mca \"students\"\")\u001b[0m\n\u001b[0m          ^\u001b[0m\n\u001b[0;31mSyntaxError\u001b[0m\u001b[0;31m:\u001b[0m invalid syntax. Perhaps you forgot a comma?\n"
     ]
    }
   ],
   "source": [
    "print(\"mca \"students\"\")"
   ]
  },
  {
   "cell_type": "code",
   "execution_count": 9,
   "id": "3e186a1c-5c37-4286-8cf4-161f98a2ad79",
   "metadata": {},
   "outputs": [
    {
     "name": "stdout",
     "output_type": "stream",
     "text": [
      "mca \"students\"\n"
     ]
    }
   ],
   "source": [
    "print('mca \"students\"')"
   ]
  },
  {
   "cell_type": "code",
   "execution_count": 10,
   "id": "96c2409d-1463-47a1-af10-7770e873655e",
   "metadata": {},
   "outputs": [
    {
     "name": "stdout",
     "output_type": "stream",
     "text": [
      "arjun\n"
     ]
    }
   ],
   "source": [
    "n=\"arjun\"\n",
    "print(n)"
   ]
  },
  {
   "cell_type": "code",
   "execution_count": 12,
   "id": "21539669-cc92-40ad-8244-69604a8bad5c",
   "metadata": {},
   "outputs": [],
   "source": [
    "n=\"arjun\"\n",
    "print=(\"name=,n\")"
   ]
  },
  {
   "cell_type": "code",
   "execution_count": null,
   "id": "fef90609-c11b-41e9-a951-0e96e83ab587",
   "metadata": {},
   "outputs": [],
   "source": []
  },
  {
   "cell_type": "code",
   "execution_count": 13,
   "id": "33559777-3688-49da-893a-2b88efc56154",
   "metadata": {},
   "outputs": [
    {
     "ename": "TypeError",
     "evalue": "'str' object is not callable",
     "output_type": "error",
     "traceback": [
      "\u001b[0;31m---------------------------------------------------------------------------\u001b[0m",
      "\u001b[0;31mTypeError\u001b[0m                                 Traceback (most recent call last)",
      "Cell \u001b[0;32mIn[13], line 2\u001b[0m\n\u001b[1;32m      1\u001b[0m n\u001b[38;5;241m=\u001b[39m\u001b[38;5;124m\"\u001b[39m\u001b[38;5;124marjun\u001b[39m\u001b[38;5;124m\"\u001b[39m\n\u001b[0;32m----> 2\u001b[0m \u001b[38;5;28mprint\u001b[39m(\u001b[38;5;124m\"\u001b[39m\u001b[38;5;124mname=\u001b[39m\u001b[38;5;124m\"\u001b[39m,n[\u001b[38;5;241m1\u001b[39m:\u001b[38;5;241m2\u001b[39m])\n",
      "\u001b[0;31mTypeError\u001b[0m: 'str' object is not callable"
     ]
    }
   ],
   "source": [
    "n=\"arjun\"\n",
    "print(\"name=\",n[1:2])"
   ]
  },
  {
   "cell_type": "code",
   "execution_count": 14,
   "id": "c3b089bd-3613-4507-a2a1-7a80a271e39d",
   "metadata": {},
   "outputs": [
    {
     "ename": "TypeError",
     "evalue": "'str' object is not callable",
     "output_type": "error",
     "traceback": [
      "\u001b[0;31m---------------------------------------------------------------------------\u001b[0m",
      "\u001b[0;31mTypeError\u001b[0m                                 Traceback (most recent call last)",
      "Cell \u001b[0;32mIn[14], line 2\u001b[0m\n\u001b[1;32m      1\u001b[0m n\u001b[38;5;241m=\u001b[39m\u001b[38;5;124m\"\u001b[39m\u001b[38;5;124marjun\u001b[39m\u001b[38;5;124m\"\u001b[39m\n\u001b[0;32m----> 2\u001b[0m \u001b[38;5;28mprint\u001b[39m(\u001b[38;5;124m\"\u001b[39m\u001b[38;5;124mname=\u001b[39m\u001b[38;5;124m\"\u001b[39m,n[\u001b[38;5;241m1\u001b[39m:\u001b[38;5;241m2\u001b[39m])\n",
      "\u001b[0;31mTypeError\u001b[0m: 'str' object is not callable"
     ]
    }
   ],
   "source": [
    "n=\"arjun\"\n",
    "print(\"name=\",n[1:2])"
   ]
  },
  {
   "cell_type": "code",
   "execution_count": 17,
   "id": "8d2e9bc4-5477-4e60-925b-8af0b0bd0dd2",
   "metadata": {},
   "outputs": [
    {
     "ename": "TypeError",
     "evalue": "'str' object is not callable",
     "output_type": "error",
     "traceback": [
      "\u001b[0;31m---------------------------------------------------------------------------\u001b[0m",
      "\u001b[0;31mTypeError\u001b[0m                                 Traceback (most recent call last)",
      "Cell \u001b[0;32mIn[17], line 2\u001b[0m\n\u001b[1;32m      1\u001b[0m i\u001b[38;5;241m=\u001b[39m\u001b[38;5;124m'\u001b[39m\u001b[38;5;124marjun\u001b[39m\u001b[38;5;124m'\u001b[39m\n\u001b[0;32m----> 2\u001b[0m \u001b[38;5;28mprint\u001b[39m(\u001b[38;5;124m\"\u001b[39m\u001b[38;5;124mname=\u001b[39m\u001b[38;5;124m\"\u001b[39m,i[\u001b[38;5;241m1\u001b[39m:\u001b[38;5;241m2\u001b[39m])\n",
      "\u001b[0;31mTypeError\u001b[0m: 'str' object is not callable"
     ]
    }
   ],
   "source": [
    "i='arjun'\n",
    "print(\"name=\",i[1:2])"
   ]
  },
  {
   "cell_type": "code",
   "execution_count": null,
   "id": "29c6ff09-133a-4972-b5b1-ccec17ae3f46",
   "metadata": {},
   "outputs": [],
   "source": []
  }
 ],
 "metadata": {
  "kernelspec": {
   "display_name": "Python 3 (ipykernel)",
   "language": "python",
   "name": "python3"
  },
  "language_info": {
   "codemirror_mode": {
    "name": "ipython",
    "version": 3
   },
   "file_extension": ".py",
   "mimetype": "text/x-python",
   "name": "python",
   "nbconvert_exporter": "python",
   "pygments_lexer": "ipython3",
   "version": "3.11.7"
  }
 },
 "nbformat": 4,
 "nbformat_minor": 5
}
