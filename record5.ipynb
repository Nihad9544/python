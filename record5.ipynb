{
 "cells": [
  {
   "cell_type": "code",
   "execution_count": 9,
   "id": "23a65bbc-482f-4618-b00a-729fb7aa034c",
   "metadata": {},
   "outputs": [
    {
     "name": "stdin",
     "output_type": "stream",
     "text": [
      "enter colour seperated by comma red,orange,yellow,green\n"
     ]
    },
    {
     "name": "stdout",
     "output_type": "stream",
     "text": [
      "list is:['red', 'orange', 'yellow', 'green']\n",
      "first colour:red\n",
      "last colour:green\n"
     ]
    }
   ],
   "source": [
    "#enter colour and display first and last colours\n",
    "colour=input(\"enter colour seperated by comma\")\n",
    "a=colour.split(',')\n",
    "print(f\"list is:{a}\")\n",
    "print(f\"first colour:{a[0]}\")\n",
    "print(f\"last colour:{a[-1]}\")"
   ]
  },
  {
   "cell_type": "code",
   "execution_count": 2,
   "id": "e8c02dc4-cc25-4544-aa51-ca8b68081323",
   "metadata": {},
   "outputs": [
    {
     "name": "stdin",
     "output_type": "stream",
     "text": [
      "enter a file name python.ipy\n"
     ]
    },
    {
     "name": "stdout",
     "output_type": "stream",
     "text": [
      "list is:['python', 'ipy']\n",
      "extansion is :ipy\n"
     ]
    }
   ],
   "source": [
    "#write a python program to accept afilename from the user, print extension of that\n",
    "a=input(\"enter a file name\")\n",
    "b=a.split('.')\n",
    "print(f\"list is:{b}\")\n",
    "print(f\"extansion is :{b[-1]}\")\n"
   ]
  },
  {
   "cell_type": "code",
   "execution_count": 8,
   "id": "9c40ddc4-d549-477b-9c0c-9aefcc3f741c",
   "metadata": {},
   "outputs": [
    {
     "name": "stdin",
     "output_type": "stream",
     "text": [
      "enter number 2,3,4,5\n"
     ]
    },
    {
     "name": "stdout",
     "output_type": "stream",
     "text": [
      "list is:[2, 3, 4, 5]\n",
      "sum of all item in the list :14\n"
     ]
    }
   ],
   "source": [
    "#generate a list using numbers from user and find sum of all item in the list\n",
    "a=input(\"enter number\") \n",
    "b=list(map(int,a.split(',')))\n",
    "print(f\"list is:{b}\")\n",
    "c=sum(b)\n",
    "print(f\"sum of all item in the list :{c}\")\n",
    "        \n"
   ]
  },
  {
   "cell_type": "code",
   "execution_count": null,
   "id": "b9c71a99-d737-4280-b132-ad05e5ebcf96",
   "metadata": {},
   "outputs": [],
   "source": []
  }
 ],
 "metadata": {
  "kernelspec": {
   "display_name": "Python 3 (ipykernel)",
   "language": "python",
   "name": "python3"
  },
  "language_info": {
   "codemirror_mode": {
    "name": "ipython",
    "version": 3
   },
   "file_extension": ".py",
   "mimetype": "text/x-python",
   "name": "python",
   "nbconvert_exporter": "python",
   "pygments_lexer": "ipython3",
   "version": "3.11.7"
  }
 },
 "nbformat": 4,
 "nbformat_minor": 5
}
