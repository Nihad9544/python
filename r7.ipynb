{
 "cells": [
  {
   "cell_type": "code",
   "execution_count": 1,
   "id": "9e004f45-8d1f-4194-af7d-4e4b8e1c139d",
   "metadata": {},
   "outputs": [
    {
     "name": "stdout",
     "output_type": "stream",
     "text": [
      "list of even numbers[2, 4, 6, 8, 10, 12, 14, 16, 18, 20, 22, 24]\n",
      "sum is:156\n"
     ]
    }
   ],
   "source": [
    "#write a python program to print all evevn nunmbers from 1 to 25 and calculate sum.(using the range()function directly without a loop or conditions)\n",
    "a=list(range(2,25,2))\n",
    "print(f\"list of even numbers{a}\")\n",
    "b=sum(a)\n",
    "print(f\"sum is:{b}\")\n"
   ]
  },
  {
   "cell_type": "code",
   "execution_count": 2,
   "id": "2d85e485-ab3c-4da6-8244-b177d8b1db63",
   "metadata": {},
   "outputs": [
    {
     "name": "stdin",
     "output_type": "stream",
     "text": [
      "enter the range: 10\n"
     ]
    },
    {
     "name": "stdout",
     "output_type": "stream",
     "text": [
      "the reverse order is: [10, 9, 8, 7, 6, 5, 4, 3, 2, 1]\n",
      "sum of reversed order: 55\n"
     ]
    }
   ],
   "source": [
    "#write a python program to print all in reverse order and calculate therir sum\n",
    "rev=int(input(\"enter the range:\"))\n",
    "print(\"the reverse order is:\",list(range(rev,0,-1)))\n",
    "print(\"sum of reversed order:\",sum(range(rev,0,-1)))"
   ]
  },
  {
   "cell_type": "code",
   "execution_count": null,
   "id": "5eb55593-ceb8-419a-9d0a-e1d838d8d704",
   "metadata": {},
   "outputs": [],
   "source": []
  }
 ],
 "metadata": {
  "kernelspec": {
   "display_name": "Python 3 (ipykernel)",
   "language": "python",
   "name": "python3"
  },
  "language_info": {
   "codemirror_mode": {
    "name": "ipython",
    "version": 3
   },
   "file_extension": ".py",
   "mimetype": "text/x-python",
   "name": "python",
   "nbconvert_exporter": "python",
   "pygments_lexer": "ipython3",
   "version": "3.11.7"
  }
 },
 "nbformat": 4,
 "nbformat_minor": 5
}
