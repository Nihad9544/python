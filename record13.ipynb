{
 "cells": [
  {
   "cell_type": "code",
   "execution_count": 5,
   "id": "6e3c36a4-8821-4b6d-8fa3-55339653e7d0",
   "metadata": {},
   "outputs": [
    {
     "name": "stdin",
     "output_type": "stream",
     "text": [
      "enter list of words apple,orange,nihad,python\n"
     ]
    },
    {
     "name": "stdout",
     "output_type": "stream",
     "text": [
      "list is:['apple', 'orange', 'nihad', 'python']\n",
      "maximum lenght of a word is:6\n"
     ]
    }
   ],
   "source": [
    "# Accept a list of words and return length of longest word.\n",
    "def length_word(word):\n",
    "    max_len=0\n",
    "    for i in word:\n",
    "        len(i)>max_len\n",
    "        max_len=len(i)\n",
    "    return max_len    \n",
    "#main\n",
    "word=input(\"enter list of words\").split(',')\n",
    "print(f\"list is:{word}\")\n",
    "print(f\"maximum lenght of a word is:{length_word(word)}\" )    \n",
    "    \n"
   ]
  },
  {
   "cell_type": "code",
   "execution_count": 12,
   "id": "e449a1ba-34c5-4f16-8857-4525c6057944",
   "metadata": {},
   "outputs": [
    {
     "name": "stdin",
     "output_type": "stream",
     "text": [
      "enter a number 5\n"
     ]
    },
    {
     "name": "stdout",
     "output_type": "stream",
     "text": [
      "*  \n",
      "*  *  \n",
      "*  *  *  \n",
      "*  *  *  *  \n",
      "*  *  *  *  *  \n",
      "*  *  *  *  \n",
      "*  *  *  \n",
      "*  *  \n",
      "*  \n",
      "None\n"
     ]
    }
   ],
   "source": [
    "#Construct following pattern using nested loop\n",
    "def patern(n):\n",
    "    for i in range(1,n+1):\n",
    "        for j in range(1,i+1):\n",
    "            print(\"*\", end=\"  \")\n",
    "        print()\n",
    "    for i in range(n-1,0,-1):\n",
    "        for j in range(1,i+1):\n",
    "              print(\"*\", end=\"  \")\n",
    "        print()\n",
    "#main\n",
    "n=int(input(\"enter a number\"))\n",
    "print(patern(n))\n",
    "        \n",
    "    \n",
    "    "
   ]
  },
  {
   "cell_type": "code",
   "execution_count": 14,
   "id": "8b873578-5940-4734-ae73-d8f3bac381e3",
   "metadata": {},
   "outputs": [
    {
     "name": "stdin",
     "output_type": "stream",
     "text": [
      "enter a number 15\n"
     ]
    },
    {
     "name": "stdout",
     "output_type": "stream",
     "text": [
      "facters of 15 is :[1, 3, 5, 15]\n"
     ]
    }
   ],
   "source": [
    "#Generate all factors of a number\n",
    "def fact(num):\n",
    "    list_fact=[]\n",
    "    for i in range(1,mun+1):\n",
    "        if mun%i==0:\n",
    "             list_fact.append(i)\n",
    "    return list_fact\n",
    "#main\n",
    "num=int(input(\"enter a number\"))\n",
    "print(f\"facters of {num} is :{fact(num)}\")\n",
    "            \n",
    "            \n",
    "            "
   ]
  },
  {
   "cell_type": "code",
   "execution_count": 17,
   "id": "96106064-07a4-4ab2-ae12-dffb81e594e7",
   "metadata": {},
   "outputs": [
    {
     "name": "stdin",
     "output_type": "stream",
     "text": [
      "enter side of the square 5\n",
      "enter lenght of the rectangle 5\n",
      "enter width of the rectangle 4\n",
      "enter base of the trangle 3\n",
      "enter hight of the trangle 6\n"
     ]
    },
    {
     "name": "stdout",
     "output_type": "stream",
     "text": [
      "Area of square: 25\n",
      "Area of rectangle: 20\n",
      "Area of triangle: 9.0\n"
     ]
    }
   ],
   "source": [
    "#Generate all factors of a number\n",
    "square_area   = lambda side: side * side\n",
    "rectangle_area = lambda lenght,width:lenght*width\n",
    "triangle_area = lambda base,hight:0.5*base*hight\n",
    "#main\n",
    "s=int(input(\"enter side of the square\")) \n",
    "l=int(input(\"enter lenght of the rectangle\")) \n",
    "w=int(input(\"enter width of the rectangle\")) \n",
    "b=float(input(\"enter base of the trangle\"))\n",
    "h=float(input(\"enter hight of the trangle\"))\n",
    "\n",
    "print(f\"Area of square: {square_area(s)}\")\n",
    "print(f\"Area of rectangle: {rectangle_area(l, w)}\")\n",
    "print(f\"Area of triangle: {triangle_area(b, h)}\")"
   ]
  },
  {
   "cell_type": "code",
   "execution_count": null,
   "id": "47df9854-0ad7-4e10-bd11-06cbccca89fe",
   "metadata": {},
   "outputs": [],
   "source": []
  }
 ],
 "metadata": {
  "kernelspec": {
   "display_name": "Python 3 (ipykernel)",
   "language": "python",
   "name": "python3"
  },
  "language_info": {
   "codemirror_mode": {
    "name": "ipython",
    "version": 3
   },
   "file_extension": ".py",
   "mimetype": "text/x-python",
   "name": "python",
   "nbconvert_exporter": "python",
   "pygments_lexer": "ipython3",
   "version": "3.11.7"
  }
 },
 "nbformat": 4,
 "nbformat_minor": 5
}
