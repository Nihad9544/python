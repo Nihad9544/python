{
 "cells": [
  {
   "cell_type": "code",
   "execution_count": 2,
   "id": "04ebc9e8-ec79-47d7-86cc-c55bad11b677",
   "metadata": {},
   "outputs": [
    {
     "name": "stdout",
     "output_type": "stream",
     "text": [
      "1.rectangle\n",
      "2.circle\n",
      "3.Exite\n"
     ]
    },
    {
     "name": "stdin",
     "output_type": "stream",
     "text": [
      "enter your choice: 1\n",
      "enter the length of the rectangle 5\n",
      "enter the width of the rectangle 4\n"
     ]
    },
    {
     "name": "stdout",
     "output_type": "stream",
     "text": [
      "area of the rectangle is:20\n",
      "perimeter of the rectangle is:18\n",
      "1.rectangle\n",
      "2.circle\n",
      "3.Exite\n"
     ]
    },
    {
     "name": "stdin",
     "output_type": "stream",
     "text": [
      "enter your choice: 2\n",
      "enter the radius of the circle 3\n"
     ]
    },
    {
     "name": "stdout",
     "output_type": "stream",
     "text": [
      "area of the circle is:28.274333882308138\n",
      "perimeter of the circle is:18.84955592153876\n",
      "1.rectangle\n",
      "2.circle\n",
      "3.Exite\n"
     ]
    },
    {
     "name": "stdin",
     "output_type": "stream",
     "text": [
      "enter your choice: 3\n"
     ]
    },
    {
     "name": "stdout",
     "output_type": "stream",
     "text": [
      "exiting...\n"
     ]
    }
   ],
   "source": [
    "#. Create modules Rectangle, Circle. Include methods to find area and perimeter of respective figures in each module. Write programs that finds area and perimeter of figures by different importing statements.\n",
    "import rect_module\n",
    "import circl_module\n",
    "while(1):\n",
    "    print(\"1.rectangle\\n2.circle\\n3.Exite\")\n",
    "    ch=int(input(\"enter your choice:\"))\n",
    "    if(ch==1):\n",
    "        length=int(input(\"enter the length of the rectangle\"))\n",
    "        width=int(input(\"enter the width of the rectangle\"))\n",
    "        print(f\"area of the rectangle is:{ rect_module.area(length,width)}\")\n",
    "        print(f\"perimeter of the rectangle is:{ rect_module.perimeter(length,width)}\")\n",
    "    elif(ch==2):\n",
    "        radius=int(input(\"enter the radius of the circle\"))\n",
    "        print(f\"area of the circle is:{circl_module.area(radius)}\")\n",
    "        print(f\"perimeter of the circle is:{circl_module.perimeter(radius) }\")\n",
    "    else:\n",
    "        print(\"exiting...\")\n",
    "        break"
   ]
  },
  {
   "cell_type": "code",
   "execution_count": null,
   "id": "7d53b49b-87ac-4af7-a04b-75e603852852",
   "metadata": {},
   "outputs": [],
   "source": []
  }
 ],
 "metadata": {
  "kernelspec": {
   "display_name": "Python 3 (ipykernel)",
   "language": "python",
   "name": "python3"
  },
  "language_info": {
   "codemirror_mode": {
    "name": "ipython",
    "version": 3
   },
   "file_extension": ".py",
   "mimetype": "text/x-python",
   "name": "python",
   "nbconvert_exporter": "python",
   "pygments_lexer": "ipython3",
   "version": "3.11.7"
  }
 },
 "nbformat": 4,
 "nbformat_minor": 5
}
