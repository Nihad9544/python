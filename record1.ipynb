{
 "cells": [
  {
   "cell_type": "code",
   "execution_count": 5,
   "id": "437be3df-a16a-48a8-9b4b-3b77afbc3f69",
   "metadata": {},
   "outputs": [
    {
     "name": "stdin",
     "output_type": "stream",
     "text": [
      "enter a intiger value 5\n"
     ]
    },
    {
     "name": "stdout",
     "output_type": "stream",
     "text": [
      "5 + 55 + 555 = 615\n"
     ]
    }
   ],
   "source": [
    "#write a python pogram that accepts an integer(n)and computes the value of n=nn=nnn.\n",
    "n=int(input(\"enter a intiger value\"))\n",
    "nn=(n*10)+n\n",
    "nnn=(n*100)+nn\n",
    "print(n,\"+\",nn,\"+\",nnn,\"=\",n+nn+nnn)"
   ]
  },
  {
   "cell_type": "code",
   "execution_count": 11,
   "id": "736cb377-adf0-4498-8b6d-27ea491f6af0",
   "metadata": {},
   "outputs": [
    {
     "name": "stdin",
     "output_type": "stream",
     "text": [
      "enter radius of a circle: 5\n"
     ]
    },
    {
     "name": "stdout",
     "output_type": "stream",
     "text": [
      "area of a circle is:78.54\n"
     ]
    }
   ],
   "source": [
    "#input the radius of a circle and compute the area(import math) \n",
    "import math\n",
    "radius=float(input(\"enter radius of a circle:\" ))\n",
    "area=math.pi*radius**2 \n",
    "s=round(area,2)\n",
    "print(f\"area of a circle is:{s}\")\n"
   ]
  },
  {
   "cell_type": "code",
   "execution_count": null,
   "id": "711a0f70-022d-46fc-86fd-914f46d976cc",
   "metadata": {},
   "outputs": [],
   "source": []
  }
 ],
 "metadata": {
  "kernelspec": {
   "display_name": "Python 3 (ipykernel)",
   "language": "python",
   "name": "python3"
  },
  "language_info": {
   "codemirror_mode": {
    "name": "ipython",
    "version": 3
   },
   "file_extension": ".py",
   "mimetype": "text/x-python",
   "name": "python",
   "nbconvert_exporter": "python",
   "pygments_lexer": "ipython3",
   "version": "3.11.7"
  }
 },
 "nbformat": 4,
 "nbformat_minor": 5
}
