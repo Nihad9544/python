{
 "cells": [
  {
   "cell_type": "code",
   "execution_count": 11,
   "id": "ba353d8c-8e63-4a68-9b7a-bf10668e37f8",
   "metadata": {},
   "outputs": [
    {
     "name": "stdin",
     "output_type": "stream",
     "text": [
      "enter a line of text:  hello world hello python\n"
     ]
    },
    {
     "name": "stdout",
     "output_type": "stream",
     "text": [
      "list is:['hello', 'world', 'hello', 'python']\n",
      "occurrences\n",
      "hello:2\n",
      "world:1\n",
      "python:1\n"
     ]
    }
   ],
   "source": [
    "#Count the occurrences of each word in a line of text.\n",
    "a=input(\"enter a line of text:\")\n",
    "b=a.split()\n",
    "print(f\"list is:{b}\")\n",
    "print(\"occurrences\")\n",
    "c={}\n",
    "for i in b:\n",
    "    i=i.lower()\n",
    "    if i in c:\n",
    "      c[i]+=1\n",
    "    else:\n",
    "      c[i]=1\n",
    "for d in c:\n",
    "    print(f\"{d}:{c[d]}\")\n",
    " \n",
    "    \n",
    "    \n"
   ]
  },
  {
   "cell_type": "code",
   "execution_count": 13,
   "id": "cc4094c7-32e0-4860-8506-6c99f9190e94",
   "metadata": {},
   "outputs": [
    {
     "name": "stdin",
     "output_type": "stream",
     "text": [
      "enter integer values  23,200,34,456,66\n"
     ]
    },
    {
     "name": "stdout",
     "output_type": "stream",
     "text": [
      "the list is[23, 'over', 34, 'over', 66]\n"
     ]
    }
   ],
   "source": [
    "#. Prompt the user for a list of integers. For all values greater than 100, store ‘over’ instead.\n",
    "a=list(map(int,input(\"enter integer values\").split(',')))\n",
    "result=[]\n",
    "for i in a:\n",
    "    if i>100:\n",
    "      result.append(\"over\")\n",
    "    else:\n",
    "        result.append(i)\n",
    "print(f\"the list is{result}\")"
   ]
  },
  {
   "cell_type": "code",
   "execution_count": 3,
   "id": "37055d10-be93-4faf-96ef-8076f1832b14",
   "metadata": {},
   "outputs": [
    {
     "name": "stdin",
     "output_type": "stream",
     "text": [
      "enter names ramu,ajayi,anver,amith\n"
     ]
    },
    {
     "name": "stdout",
     "output_type": "stream",
     "text": [
      "number of 'a' is:5\n"
     ]
    }
   ],
   "source": [
    "#Store a list of first names. Count the occurrences of ‘a’ within the list\n",
    "names=input(\"enter names\").split(',')\n",
    "c=0\n",
    "for i in names:\n",
    "    i=i.lower()\n",
    "    c+=i.count('a')\n",
    "print(f\"number of 'a' is:{c}\")\n",
    "    \n",
    "\n"
   ]
  },
  {
   "cell_type": "code",
   "execution_count": 11,
   "id": "7a95c2a4-11a2-4582-b4e1-85d942aa5dad",
   "metadata": {},
   "outputs": [
    {
     "name": "stdin",
     "output_type": "stream",
     "text": [
      "enter fist number 30\n",
      "enter second number 45\n"
     ]
    },
    {
     "name": "stdout",
     "output_type": "stream",
     "text": [
      "gcd of two value is:15\n"
     ]
    }
   ],
   "source": [
    "#Find gcd of 2 numbers.\n",
    "\n",
    "a=int(input(\"enter fist number\"))\n",
    "b=int(input(\"enter second number\"))\n",
    "while b!=0:\n",
    "    a,b=b,a%b\n",
    "print(f\"gcd of two value is:{a}\")\n",
    "\n"
   ]
  },
  {
   "cell_type": "code",
   "execution_count": 12,
   "id": "15d8ad21-eb66-44b5-817a-eecff22d3ff2",
   "metadata": {},
   "outputs": [
    {
     "name": "stdin",
     "output_type": "stream",
     "text": [
      "enter integer values 2,3,4,5,6,7,8\n"
     ]
    },
    {
     "name": "stdout",
     "output_type": "stream",
     "text": [
      "list is: [2, 3, 4, 5, 6, 7, 8]\n",
      "the new list after removing even numbers:[3, 5, 7]\n"
     ]
    }
   ],
   "source": [
    "# From a list of integers, create a list removing even numbers.\n",
    "a=list(map(int,input(\"enter integer values\").split(',')))\n",
    "print(\"list is:\",a)\n",
    "b=[]\n",
    "for i in a:\n",
    "    if i%2!=0:\n",
    "        b.append(i)\n",
    "print(f\"the new list after removing even numbers:{b}\")\n",
    "    "
   ]
  },
  {
   "cell_type": "code",
   "execution_count": 16,
   "id": "c77bcc80-0c11-4dd6-9406-9add7f8d6908",
   "metadata": {},
   "outputs": [
    {
     "name": "stdin",
     "output_type": "stream",
     "text": [
      "enter a number 5\n"
     ]
    },
    {
     "name": "stdout",
     "output_type": "stream",
     "text": [
      "factorial of the 5 is:120\n"
     ]
    }
   ],
   "source": [
    "# Program to find the factorial of a number\n",
    "a=int(input(\"enter a number\"))\n",
    "num=a\n",
    "fact=1\n",
    "while(a>0):\n",
    "    fact=fact*a\n",
    "    a=a-1\n",
    "print(f\"factorial of the {num} is:{fact}\")"
   ]
  },
  {
   "cell_type": "code",
   "execution_count": 18,
   "id": "42b8273d-5926-4b8d-a929-41ac9b6c4f20",
   "metadata": {},
   "outputs": [
    {
     "name": "stdin",
     "output_type": "stream",
     "text": [
      "enter a value 8\n"
     ]
    },
    {
     "name": "stdout",
     "output_type": "stream",
     "text": [
      "Fibonacci series of 8 terms is\n",
      "0 1 1 2 3 5 8 13 "
     ]
    }
   ],
   "source": [
    "# Generate Fibonacci series of N terms\n",
    "a=int(input(\"enter a value\"))\n",
    "print(f\"Fibonacci series of {a} terms is\")\n",
    "b,c=0,1\n",
    "for i in range(a):\n",
    "    print(b,end=\" \")\n",
    "    d=b+c\n",
    "    b=c\n",
    "    c=d\n",
    "    \n"
   ]
  },
  {
   "cell_type": "code",
   "execution_count": 13,
   "id": "db0de62a-36cc-4122-a06e-eecc05261f07",
   "metadata": {},
   "outputs": [
    {
     "name": "stdin",
     "output_type": "stream",
     "text": [
      "enter integer values 2,3,4,5,6\n"
     ]
    },
    {
     "name": "stdout",
     "output_type": "stream",
     "text": [
      "list is: [2, 3, 4, 5, 6]\n",
      "sum of all item in the list is:20\n"
     ]
    }
   ],
   "source": [
    "#Find the sum of all items in a list\n",
    "a=list(map(int,input(\"enter integer values\").split(',')))\n",
    "print(\"list is:\",a)\n",
    "sum=0\n",
    "for i in a:\n",
    "    sum=sum+i\n",
    "print(f\"sum of all item in the list is:{sum}\")\n",
    "    "
   ]
  },
  {
   "cell_type": "code",
   "execution_count": 19,
   "id": "b02b3a5c-2aa4-454a-bf86-ab9164b5baeb",
   "metadata": {},
   "outputs": [
    {
     "name": "stdin",
     "output_type": "stream",
     "text": [
      "enter a starting four digit value:  1000\n",
      "enter a ending four digit value:  10000\n"
     ]
    },
    {
     "name": "stdout",
     "output_type": "stream",
     "text": [
      " perfect square four digit number is:[4624, 6084, 6400, 8464]\n"
     ]
    }
   ],
   "source": [
    "#Generate a list of four digit numbers in a given range with all their digits even and thenumber is a perfect square\n",
    "import math\n",
    "sart=int(input(\"enter a starting four digit value: \"))\n",
    "end=int(input(\"enter a ending four digit value: \"))\n",
    "result=[]\n",
    "for i in range(sart,end+1):\n",
    "        root=int(math.sqrt(i))\n",
    "        if root*root==i:\n",
    "            if all(int(d) % 2 == 0 for d in str(i)):\n",
    "                    result.append(i)\n",
    "print(f\" perfect square four digit number is:{result}\")\n",
    "        \n",
    "\n",
    "        \n",
    "        \n"
   ]
  },
  {
   "cell_type": "code",
   "execution_count": 22,
   "id": "3430e548-f590-4a23-96d6-ae92f57b12fb",
   "metadata": {},
   "outputs": [
    {
     "name": "stdin",
     "output_type": "stream",
     "text": [
      "enter a string hello\n"
     ]
    },
    {
     "name": "stdout",
     "output_type": "stream",
     "text": [
      "number of characters in the string:{'h': 1, 'e': 1, 'l': 2, 'o': 1}\n"
     ]
    }
   ],
   "source": [
    "#. Count the number of characters (character frequency) in a string.\n",
    "string=input(\"enter a string\")\n",
    "count={}\n",
    "for i in string:\n",
    "    if i in count:\n",
    "        count[i] += 1\n",
    "    else:\n",
    "        count[i] = 1\n",
    "\n",
    "print(f\"number of characters in the string:{count}\")\n"
   ]
  },
  {
   "cell_type": "code",
   "execution_count": 10,
   "id": "69cde4e4-9530-4890-b480-8f8e4a44c52a",
   "metadata": {
    "scrolled": true
   },
   "outputs": [
    {
     "name": "stdin",
     "output_type": "stream",
     "text": [
      "Enter the number of steps:  5\n"
     ]
    },
    {
     "name": "stdout",
     "output_type": "stream",
     "text": [
      "1 \n",
      "2 4 \n",
      "3 6 9 \n",
      "4 8 12 16 \n",
      "5 10 15 20 25 \n"
     ]
    }
   ],
   "source": [
    "#Display the given pyramid with step number accepted from user.\n",
    "a = int(input(\"Enter the number of steps: \"))\n",
    "for i in range(1,a+1):\n",
    "    for j in range(1,i+1):\n",
    "        print(i*j, end=\" \")\n",
    "    print()\n",
    "    \n"
   ]
  },
  {
   "cell_type": "code",
   "execution_count": null,
   "id": "2909ede2-b985-4793-ae95-ae59a72b2ef8",
   "metadata": {},
   "outputs": [],
   "source": []
  }
 ],
 "metadata": {
  "kernelspec": {
   "display_name": "Python 3 (ipykernel)",
   "language": "python",
   "name": "python3"
  },
  "language_info": {
   "codemirror_mode": {
    "name": "ipython",
    "version": 3
   },
   "file_extension": ".py",
   "mimetype": "text/x-python",
   "name": "python",
   "nbconvert_exporter": "python",
   "pygments_lexer": "ipython3",
   "version": "3.11.7"
  }
 },
 "nbformat": 4,
 "nbformat_minor": 5
}
