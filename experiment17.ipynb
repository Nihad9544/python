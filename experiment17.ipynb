{
 "cells": [
  {
   "cell_type": "code",
   "execution_count": 7,
   "id": "40b8016a-c8d6-4d5a-979f-a5b262366da8",
   "metadata": {},
   "outputs": [
    {
     "name": "stdin",
     "output_type": "stream",
     "text": [
      "enter publisher name:  Nihad\n",
      "enter title of the book:  python programming\n",
      "enter author name:  jon\n",
      "enter price of book: 200\n",
      "enter number of pages: 50\n"
     ]
    },
    {
     "name": "stdout",
     "output_type": "stream",
     "text": [
      "\n",
      ".....book details.....\n",
      "\n",
      "Publisher:Nihad\n",
      "Book title: python programming\n",
      "Author:jon\n",
      "Book Price:200\n",
      "no_of_pages:50\n"
     ]
    }
   ],
   "source": [
    "#Create a class Publisher (name). Derive class Book from Publisher with attributes title and\n",
    "#author. Derive class Python from Book with attributes price and no_of_pages. Write a\n",
    "#program that displays information about a Python book. Use base class constructor invocation and\n",
    "#method overriding.\n",
    "class publisher:\n",
    "    def __init__(self, name):\n",
    "        self.name = name\n",
    "    def display(self):\n",
    "        print(f\"Publisher:{self.name}\")\n",
    "class book(publisher):\n",
    "    def __init__(self,name,title,author):\n",
    "        super().__init__(name)\n",
    "        self.title = title\n",
    "        self.author = author\n",
    "    def display(self):\n",
    "        super().display()\n",
    "        print(f\"Book title:{self.title}\")\n",
    "        print(f\"Author:{self.author}\")\n",
    "class python(book):\n",
    "    def __init__(self,name,title,author,price,no_of_pdges):\n",
    "        super().__init__(name, title, author)\n",
    "        self.price=price\n",
    "        self.no_of_pages=no_of_pdges\n",
    "    def display(self):\n",
    "        super().display()\n",
    "        print(f\"Book Price:{self.price}\")\n",
    "        print(f\"no_of_pages:{self.no_of_pages}\")\n",
    "name=input(\"enter publisher name: \") \n",
    "title=input(\"enter title of the book:\") \n",
    "author=input(\"enter author name: \") \n",
    "price=int(input(\"enter price of book:\")) \n",
    "pages=int(input(\"enter number of pages:\")) \n",
    "\n",
    "p=python(name,title,author,price,pages)\n",
    "print(\"\\n.....book details.....\\n\")\n",
    "p.display()\n",
    "    \n",
    "    \n",
    "    \n",
    "    \n",
    "    \n",
    "    "
   ]
  },
  {
   "cell_type": "code",
   "execution_count": null,
   "id": "db6a0850-1c78-453b-a081-d3531a952fbb",
   "metadata": {},
   "outputs": [],
   "source": []
  }
 ],
 "metadata": {
  "kernelspec": {
   "display_name": "Python 3 (ipykernel)",
   "language": "python",
   "name": "python3"
  },
  "language_info": {
   "codemirror_mode": {
    "name": "ipython",
    "version": 3
   },
   "file_extension": ".py",
   "mimetype": "text/x-python",
   "name": "python",
   "nbconvert_exporter": "python",
   "pygments_lexer": "ipython3",
   "version": "3.11.7"
  }
 },
 "nbformat": 4,
 "nbformat_minor": 5
}
