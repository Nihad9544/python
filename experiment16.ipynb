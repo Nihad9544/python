{
 "cells": [
  {
   "cell_type": "code",
   "execution_count": 13,
   "id": "4abeecd3-ef3e-4716-880f-699558df70fc",
   "metadata": {},
   "outputs": [
    {
     "name": "stdin",
     "output_type": "stream",
     "text": [
      "Acc No:  3565624566\n",
      "Name:  nihad\n",
      "Type:  savings\n"
     ]
    },
    {
     "name": "stdout",
     "output_type": "stream",
     "text": [
      "\n",
      "1.Deposit  2.Withdraw  3.Display  4.Exit\n"
     ]
    },
    {
     "name": "stdin",
     "output_type": "stream",
     "text": [
      "Enter choice:  1\n",
      "amount: 10000\n"
     ]
    },
    {
     "name": "stdout",
     "output_type": "stream",
     "text": [
      "Amount Deposited: 10000.0\n",
      "\n",
      "1.Deposit  2.Withdraw  3.Display  4.Exit\n"
     ]
    },
    {
     "name": "stdin",
     "output_type": "stream",
     "text": [
      "Enter choice:  1\n",
      "amount: 10000\n"
     ]
    },
    {
     "name": "stdout",
     "output_type": "stream",
     "text": [
      "Amount Deposited: 10000.0\n",
      "\n",
      "1.Deposit  2.Withdraw  3.Display  4.Exit\n"
     ]
    },
    {
     "name": "stdin",
     "output_type": "stream",
     "text": [
      "Enter choice:  3\n"
     ]
    },
    {
     "name": "stdout",
     "output_type": "stream",
     "text": [
      "\n",
      "Acc No: 3565624566\n",
      "Name: nihad\n",
      "Type: savings\n",
      "Balance: 20000.0\n",
      "\n",
      "1.Deposit  2.Withdraw  3.Display  4.Exit\n"
     ]
    },
    {
     "name": "stdin",
     "output_type": "stream",
     "text": [
      "Enter choice:  2\n",
      "enter withdraw amount: 5000\n"
     ]
    },
    {
     "name": "stdout",
     "output_type": "stream",
     "text": [
      "Amount Withdrawn: 5000.0\n",
      "\n",
      "1.Deposit  2.Withdraw  3.Display  4.Exit\n"
     ]
    },
    {
     "name": "stdin",
     "output_type": "stream",
     "text": [
      "Enter choice:  3\n"
     ]
    },
    {
     "name": "stdout",
     "output_type": "stream",
     "text": [
      "\n",
      "Acc No: 3565624566\n",
      "Name: nihad\n",
      "Type: savings\n",
      "Balance: 15000.0\n",
      "\n",
      "1.Deposit  2.Withdraw  3.Display  4.Exit\n"
     ]
    },
    {
     "name": "stdin",
     "output_type": "stream",
     "text": [
      "Enter choice:  4\n"
     ]
    }
   ],
   "source": [
    "#Create a Bank account with members account number, name, type of account and balance.\n",
    "#Write constructor and methods to deposit at the bank and withdraw an amount from the bank.\n",
    "class Bank:\n",
    "    def __init__(self,accno,name,acctype,bal):\n",
    "        self.accno=accno\n",
    "        self.name=name\n",
    "        self.acctype=acctype\n",
    "        self.bal=bal\n",
    "    def deposit(self):\n",
    "        amt=float(input(\"amount:\"))\n",
    "        self.bal+=amt\n",
    "        print(\"Amount Deposited:\",amt)\n",
    "    def withdraw(self):\n",
    "        amt=float(input(\"enter withdraw amount:\"))\n",
    "        if amt<=self.bal:\n",
    "            self.bal-=amt\n",
    "            print(\"Amount Withdrawn:\",amt)\n",
    "        else:\n",
    "            print(\"Insufficient Balance!\")\n",
    "    def display(self):\n",
    "        print(\"\\nAcc No:\",self.accno)\n",
    "        print(\"Name:\",self.name)\n",
    "        print(\"Type:\",self.acctype)\n",
    "        print(\"Balance:\",self.bal)\n",
    "acc=input(\"Acc No: \")\n",
    "name=input(\"Name: \")\n",
    "typ=input(\"Type: \")\n",
    "bal=0 #float(input(\"Balance: \"))\n",
    "b=Bank(acc,name,typ,bal)\n",
    "while True:\n",
    "    print(\"\\n1.Deposit  2.Withdraw  3.Display  4.Exit\")\n",
    "    ch=int(input(\"Enter choice: \"))\n",
    "    if ch==1:\n",
    "        b.deposit()\n",
    "    elif ch==2:\n",
    "        b.withdraw()\n",
    "    elif ch==3:\n",
    "        b.display()\n",
    "    elif ch==4:\n",
    "        break\n",
    "    else:\n",
    "        print(\"Invalid choice!\")"
   ]
  }
 ],
 "metadata": {
  "kernelspec": {
   "display_name": "Python 3 (ipykernel)",
   "language": "python",
   "name": "python3"
  },
  "language_info": {
   "codemirror_mode": {
    "name": "ipython",
    "version": 3
   },
   "file_extension": ".py",
   "mimetype": "text/x-python",
   "name": "python",
   "nbconvert_exporter": "python",
   "pygments_lexer": "ipython3",
   "version": "3.11.7"
  }
 },
 "nbformat": 4,
 "nbformat_minor": 5
}
