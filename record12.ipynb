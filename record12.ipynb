{
 "cells": [
  {
   "cell_type": "code",
   "execution_count": 11,
   "id": "5366eecd-17e8-45ae-9d2f-6ce90fd76087",
   "metadata": {},
   "outputs": [
    {
     "name": "stdin",
     "output_type": "stream",
     "text": [
      "enter list of number 2,-4,5,-1,3,2,-7\n"
     ]
    },
    {
     "name": "stdout",
     "output_type": "stream",
     "text": [
      "the list is:[2, -4, 5, -1, 3, 2, -7]\n",
      "positive numbers list is:[2, 5, 3, 2]\n"
     ]
    }
   ],
   "source": [
    "#1. List comprehensions: (a) Generate positive list of numbers from a given list of integers \n",
    "a=list(map(int,input(\"enter list of number\").split(',')))\n",
    "print(f\"the list is:{a}\")\n",
    "b=[i for i in a if i>0]\n",
    "print(f\"positive numbers list is:{b}\")\n"
   ]
  },
  {
   "cell_type": "code",
   "execution_count": 6,
   "id": "468c5881-8ad1-462c-8091-e8608b0e387c",
   "metadata": {},
   "outputs": [
    {
     "name": "stdin",
     "output_type": "stream",
     "text": [
      "enter N number 2,5,4,6,9\n"
     ]
    },
    {
     "name": "stdout",
     "output_type": "stream",
     "text": [
      "the list is:[2, 5, 4, 6, 9]\n",
      "squre of N numbers is:[4, 25, 16, 36, 81]\n"
     ]
    }
   ],
   "source": [
    "#(b) Square of N numbers \n",
    "a=list(map(int,input(\"enter N number\").split(',')))\n",
    "print(f\"the list is:{a}\")\n",
    "b=[i*i for i in a]\n",
    "print(f\"squre of N numbers is:{b}\")\n"
   ]
  },
  {
   "cell_type": "code",
   "execution_count": 9,
   "id": "1e6aadeb-a3c6-46d9-8960-8e6e15a4f024",
   "metadata": {},
   "outputs": [
    {
     "name": "stdin",
     "output_type": "stream",
     "text": [
      "enter a word education\n"
     ]
    },
    {
     "name": "stdout",
     "output_type": "stream",
     "text": [
      "vowels in the given word is:['e', 'u', 'a', 'i', 'o']\n"
     ]
    }
   ],
   "source": [
    "#(c) Form a list of vowels selected from a given word \n",
    "a=input(\"enter a word\")\n",
    "b=[i for i in a if i.lower() in 'aeiou']\n",
    "print(f\"vowels in the given word is:{b}\")"
   ]
  },
  {
   "cell_type": "code",
   "execution_count": 10,
   "id": "f667f42d-beb7-4bb1-9984-e069a6dd3fbf",
   "metadata": {},
   "outputs": [
    {
     "name": "stdin",
     "output_type": "stream",
     "text": [
      "enter a word nihad\n"
     ]
    },
    {
     "name": "stdout",
     "output_type": "stream",
     "text": [
      "ordinal values is:[110, 105, 104, 97, 100]\n"
     ]
    }
   ],
   "source": [
    "#(d) List ordinal value of each element of a word (Hint: use ord() to get ordinal values)\n",
    "a=input(\"enter a word\")\n",
    "b=[ord(i) for i in a]\n",
    "print(f\"ordinal values is:{b}\")"
   ]
  },
  {
   "cell_type": "code",
   "execution_count": null,
   "id": "49b9870f-b86d-4075-a4a1-24c017886c2b",
   "metadata": {},
   "outputs": [],
   "source": []
  }
 ],
 "metadata": {
  "kernelspec": {
   "display_name": "Python 3 (ipykernel)",
   "language": "python",
   "name": "python3"
  },
  "language_info": {
   "codemirror_mode": {
    "name": "ipython",
    "version": 3
   },
   "file_extension": ".py",
   "mimetype": "text/x-python",
   "name": "python",
   "nbconvert_exporter": "python",
   "pygments_lexer": "ipython3",
   "version": "3.11.7"
  }
 },
 "nbformat": 4,
 "nbformat_minor": 5
}
