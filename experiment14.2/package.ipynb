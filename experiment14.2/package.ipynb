{
 "cells": [
  {
   "cell_type": "code",
   "execution_count": 6,
   "id": "2fb0f0f4-c17c-4497-af39-4499963de956",
   "metadata": {},
   "outputs": [
    {
     "name": "stdout",
     "output_type": "stream",
     "text": [
      "\n",
      "1.rectangle\n",
      ".2circle\n",
      "3.cuboid\n",
      "4.sphere\n",
      "5.exit\n"
     ]
    },
    {
     "name": "stdin",
     "output_type": "stream",
     "text": [
      "enter your choise 1\n",
      "enter the length of the rectangle 6\n",
      "enter the width of the rectangle 4\n"
     ]
    },
    {
     "name": "stdout",
     "output_type": "stream",
     "text": [
      "area of the rectangle is:24\n",
      "perimeter of the rectangle is:20\n",
      "\n",
      "1.rectangle\n",
      ".2circle\n",
      "3.cuboid\n",
      "4.sphere\n",
      "5.exit\n"
     ]
    },
    {
     "name": "stdin",
     "output_type": "stream",
     "text": [
      "enter your choise 2\n",
      "enter the radius of the circle 4\n"
     ]
    },
    {
     "name": "stdout",
     "output_type": "stream",
     "text": [
      "area of the circle is:50.26548245743669\n",
      "perimeter of the circle is:25.132741228718345\n",
      "\n",
      "1.rectangle\n",
      ".2circle\n",
      "3.cuboid\n",
      "4.sphere\n",
      "5.exit\n"
     ]
    },
    {
     "name": "stdin",
     "output_type": "stream",
     "text": [
      "enter your choise 3\n",
      "enter the length of the cuboid 5\n",
      "enter the breadth of the cuboid 4\n",
      "enter the hight of the cuboid 3\n"
     ]
    },
    {
     "name": "stdout",
     "output_type": "stream",
     "text": [
      "area of the cuboid is:94\n",
      "perimeter of the cuboid is:48\n",
      "\n",
      "1.rectangle\n",
      ".2circle\n",
      "3.cuboid\n",
      "4.sphere\n",
      "5.exit\n"
     ]
    },
    {
     "name": "stdin",
     "output_type": "stream",
     "text": [
      "enter your choise 4\n",
      "enter the radius of the sphere 5\n"
     ]
    },
    {
     "name": "stdout",
     "output_type": "stream",
     "text": [
      "area of the sphere is:157.0\n",
      "perimeter of the circle is:314.0\n",
      "\n",
      "1.rectangle\n",
      ".2circle\n",
      "3.cuboid\n",
      "4.sphere\n",
      "5.exit\n"
     ]
    },
    {
     "name": "stdin",
     "output_type": "stream",
     "text": [
      "enter your choise 5\n"
     ]
    },
    {
     "name": "stdout",
     "output_type": "stream",
     "text": [
      "exiting...\n"
     ]
    }
   ],
   "source": [
    "from graphics import recta_module\n",
    "from graphics import circle_module\n",
    "from graphics.graphics3D import cuboi_module\n",
    "from graphics.graphics3D import sphere_module\n",
    "while(1):\n",
    "    print(\"\\n1.rectangle\\n.2circle\\n3.cuboid\\n4.sphere\\n5.exit\")\n",
    "    ch=int(input(\"enter your choise\"))\n",
    "    if(ch==1):\n",
    "        length=int(input(\"enter the length of the rectangle\"))\n",
    "        width=int(input(\"enter the width of the rectangle\"))\n",
    "        print(f\"area of the rectangle is:{ recta_module.area(length,width)}\")\n",
    "        print(f\"perimeter of the rectangle is:{ recta_module.perimeter(length,width)}\")\n",
    "    elif(ch==2):\n",
    "        radius=int(input(\"enter the radius of the circle\"))\n",
    "        print(f\"area of the circle is:{circle_module.area(radius)}\")\n",
    "        print(f\"perimeter of the circle is:{circle_module.perimeter(radius) }\")\n",
    "    elif(ch==3):\n",
    "        l=int(input(\"enter the length of the cuboid\"))\n",
    "        b=int(input(\"enter the breadth of the cuboid\"))\n",
    "        h=int(input(\"enter the hight of the cuboid\"))\n",
    "        print(f\"area of the cuboid is:{cuboi_module.cuboidarea(l,b,h)}\")\n",
    "        print(f\"perimeter of the cuboid is:{cuboi_module.cuboidperimeter(l,b,h) }\")\n",
    "    elif(ch==4):\n",
    "        r=int(input(\"enter the radius of the sphere\"))\n",
    "        print(f\"area of the sphere is:{sphere_module.spherearea(r)}\")\n",
    "        print(f\"perimeter of the circle is:{sphere_module.sphereperimeter(r) }\")    \n",
    "    else:\n",
    "        print(\"exiting...\")\n",
    "        break\n",
    "        \n",
    "        \n",
    "    \n",
    "\n"
   ]
  },
  {
   "cell_type": "code",
   "execution_count": null,
   "id": "8a1f201f-1206-49e7-93c4-e8f1a5872d8e",
   "metadata": {},
   "outputs": [],
   "source": []
  }
 ],
 "metadata": {
  "kernelspec": {
   "display_name": "Python 3 (ipykernel)",
   "language": "python",
   "name": "python3"
  },
  "language_info": {
   "codemirror_mode": {
    "name": "ipython",
    "version": 3
   },
   "file_extension": ".py",
   "mimetype": "text/x-python",
   "name": "python",
   "nbconvert_exporter": "python",
   "pygments_lexer": "ipython3",
   "version": "3.11.7"
  }
 },
 "nbformat": 4,
 "nbformat_minor": 5
}
