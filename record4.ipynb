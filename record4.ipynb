{
 "cells": [
  {
   "cell_type": "code",
   "execution_count": 19,
   "id": "84462760-b5ef-4f43-95b3-2d86477ab8af",
   "metadata": {},
   "outputs": [
    {
     "name": "stdin",
     "output_type": "stream",
     "text": [
      "enter a string:  python\n"
     ]
    },
    {
     "name": "stdout",
     "output_type": "stream",
     "text": [
      "changed string is:nythop \n"
     ]
    }
   ],
   "source": [
    "#write a pyithon program to change a given string to a new sring where the first and last chars have been exchanded\n",
    "a=input(\"enter a string: \")\n",
    "b=a[0]\n",
    "c=a[1:-1]\n",
    "d=a[-1]\n",
    "print(f\"changed string is:{d+c+b} \")\n"
   ]
  },
  {
   "cell_type": "code",
   "execution_count": 13,
   "id": "ca82ea58-202a-423a-b432-4b03da1c411e",
   "metadata": {},
   "outputs": [
    {
     "name": "stdin",
     "output_type": "stream",
     "text": [
      "enter a string: python\n"
     ]
    },
    {
     "name": "stdout",
     "output_type": "stream",
     "text": [
      "string made up of first and last 2 char is:pyon\n"
     ]
    }
   ],
   "source": [
    "#string made of the first and last 2 chars feom a given a string\n",
    "a=input(\"enter a string:\")\n",
    "b=a[0:2]\n",
    "c=a[-2:]\n",
    "print(f\"string made up of first and last 2 char is:{b+c}\")"
   ]
  },
  {
   "cell_type": "code",
   "execution_count": 5,
   "id": "a1434008-c015-4419-80ef-f82bb7eee413",
   "metadata": {},
   "outputs": [
    {
     "name": "stdin",
     "output_type": "stream",
     "text": [
      "enter a first string: python\n",
      "enter a second string: programming\n"
     ]
    },
    {
     "name": "stdout",
     "output_type": "stream",
     "text": [
      "new srting: prthon pyogramming\n"
     ]
    }
   ],
   "source": [
    "#single string from two given string, separated by a space and swap the first two character of each string\n",
    "a=input(\"enter a first string:\")\n",
    "b=input(\"enter a second string:\")\n",
    "c=a[0:2]\n",
    "d=b[0:2]\n",
    "print(f\"new srting: {d+a[2:]} {c+b[2:]}\")\n"
   ]
  },
  {
   "cell_type": "code",
   "execution_count": 12,
   "id": "084ae326-a1f6-4cb1-b5d8-910c10f2a268",
   "metadata": {},
   "outputs": [
    {
     "name": "stdin",
     "output_type": "stream",
     "text": [
      "enter a string:  onion\n"
     ]
    },
    {
     "name": "stdout",
     "output_type": "stream",
     "text": [
      "new string: oni$n\n"
     ]
    }
   ],
   "source": [
    "#first char have been changed to $, except the first char itself\n",
    "a=input(\"enter a string: \")\n",
    "b=a[0]\n",
    "c=b+a[1:].replace(b,'$')\n",
    "print(f\"new string: {c}\")"
   ]
  },
  {
   "cell_type": "code",
   "execution_count": null,
   "id": "b1e9d764-06c8-420c-8f24-5551cccdf6d8",
   "metadata": {},
   "outputs": [],
   "source": []
  }
 ],
 "metadata": {
  "kernelspec": {
   "display_name": "Python 3 (ipykernel)",
   "language": "python",
   "name": "python3"
  },
  "language_info": {
   "codemirror_mode": {
    "name": "ipython",
    "version": 3
   },
   "file_extension": ".py",
   "mimetype": "text/x-python",
   "name": "python",
   "nbconvert_exporter": "python",
   "pygments_lexer": "ipython3",
   "version": "3.11.7"
  }
 },
 "nbformat": 4,
 "nbformat_minor": 5
}
