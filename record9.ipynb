{
 "cells": [
  {
   "cell_type": "code",
   "execution_count": 2,
   "id": "c8b94617-29ee-4f38-9db6-d5aaaccaa42b",
   "metadata": {},
   "outputs": [
    {
     "name": "stdin",
     "output_type": "stream",
     "text": [
      "enter roll number:  2,5,3,6,4\n",
      "enter name of studant: arun,sara,ajayi,amith,hari\n"
     ]
    },
    {
     "name": "stdout",
     "output_type": "stream",
     "text": [
      "dictionare is:{2: 'arun', 5: 'sara', 3: 'ajayi', 6: 'amith', 4: 'hari'}\n",
      "ascenting order: [(2, 'arun'), (3, 'ajayi'), (4, 'hari'), (5, 'sara'), (6, 'amith')]\n",
      "descenting order: [(6, 'amith'), (5, 'sara'), (4, 'hari'), (3, 'ajayi'), (2, 'arun')]\n"
     ]
    }
   ],
   "source": [
    "# Write a Python program to accept 5 students' names and roll numbers, and map these into a dictionary(roll as key, name as value). Sort the dictionary in ascending and descending order of their roll number [use sorted()] \n",
    "keys=list(map(int,input(\"enter roll number: \").split(',')))\n",
    "values=input(\"enter name of studant:\").split(',')\n",
    "zipped=dict(zip(keys,values))\n",
    "print(f\"dictionare is:{zipped}\")\n",
    "print(\"ascenting order:\",sorted(zipped.items()))\n",
    "print(\"descenting order:\",sorted(zipped.items(),reverse=True))"
   ]
  },
  {
   "cell_type": "code",
   "execution_count": 6,
   "id": "b4ae73b1-5db6-49b9-ae9a-67a8edd4bbdb",
   "metadata": {},
   "outputs": [
    {
     "name": "stdin",
     "output_type": "stream",
     "text": [
      "enter  roll number of three students:  1,2,3\n",
      "enter name of three studants:  ramu,raju,arun\n",
      "enter roll number of two students:  4,5\n",
      "enter name of tow studants: devika,sandra\n"
     ]
    },
    {
     "name": "stdout",
     "output_type": "stream",
     "text": [
      "fist dictionare is:{1: ' ramu', 2: 'raju', 3: 'arun'}\n",
      "second dictionare is:{4: 'devika', 5: 'sandra'}\n",
      "merged dictionare is:{1: ' ramu', 2: 'raju', 3: 'arun', 4: 'devika', 5: 'sandra'}\n"
     ]
    }
   ],
   "source": [
    "# Write a Python program to accept 2 dictionaries (dic1 contains 3 students' names and roll numbers, and dic2 contains 2 students' names and roll numbers). Merge 2 dictionaries and display it [use update()]\n",
    "a=list(map(int,input(\"enter  roll number of three students: \").split(',')))\n",
    "b=input(\"enter name of three studants:\").split(',')\n",
    "zipped1=dict(zip(a,b))\n",
    "c=list(map(int,input(\"enter roll number of two students: \").split(',')))\n",
    "d=input(\"enter name of tow studants:\").split(',')\n",
    "zipped2=dict(zip(c,d))\n",
    "zipped1.update(zipped2)\n",
    "print(f\"fist dictionare is:{dict(zip(a,b))}\")\n",
    "print(f\"second dictionare is:{zipped2}\")\n",
    "print(f\"merged dictionare is:{zipped1}\")\n"
   ]
  },
  {
   "cell_type": "code",
   "execution_count": null,
   "id": "dcf26b9b-2711-4f7d-99ef-a0a666951d66",
   "metadata": {},
   "outputs": [],
   "source": []
  }
 ],
 "metadata": {
  "kernelspec": {
   "display_name": "Python 3 (ipykernel)",
   "language": "python",
   "name": "python3"
  },
  "language_info": {
   "codemirror_mode": {
    "name": "ipython",
    "version": 3
   },
   "file_extension": ".py",
   "mimetype": "text/x-python",
   "name": "python",
   "nbconvert_exporter": "python",
   "pygments_lexer": "ipython3",
   "version": "3.11.7"
  }
 },
 "nbformat": 4,
 "nbformat_minor": 5
}
