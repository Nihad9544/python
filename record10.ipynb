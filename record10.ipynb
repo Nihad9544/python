{
 "cells": [
  {
   "cell_type": "code",
   "execution_count": 19,
   "id": "c6cd48ec-173f-4087-8c45-1ac108a5601f",
   "metadata": {},
   "outputs": [
    {
     "name": "stdin",
     "output_type": "stream",
     "text": [
      "enter fist integers list 1,2,3,4,5\n",
      "enter second integers list 4,5,6,7,8\n"
     ]
    },
    {
     "name": "stdout",
     "output_type": "stream",
     "text": [
      "fist list:[1, 2, 3, 4, 5]\n",
      "second list:[4, 5, 6, 7, 8]\n",
      "the two list are same lenght\n",
      "sum not equal\n",
      "common value is:{4, 5}\n"
     ]
    }
   ],
   "source": [
    "#Enter 2 lists of integers. Check (a) Whether list are of same length (b) whether list sumsto same value (c) whether any value occur in both.\n",
    "a=list(map(int,input(\"enter fist integers list\").split(',')))\n",
    "b=list(map(int,input(\"enter second integers list\").split(',')))\n",
    "print(f\"fist list:{a}\")\n",
    "print(f\"second list:{b}\")\n",
    "if len(a)==len(b):\n",
    "    print(\"the two list are same lenght\")\n",
    "else:\n",
    "    print(\"the lenght of two list is not same\")\n",
    "if sum(a)==sum(b):\n",
    "    print(\"sum of two list are equal\")\n",
    "else:\n",
    "    \n",
    "    print(\"sum not equal\")\n",
    "common = set(a).intersection( set(b))\n",
    "if common:\n",
    "    print(f\"common value is:{common}\")\n",
    "else:\n",
    "    print(\"no common value\")\n",
    "    \n"
   ]
  },
  {
   "cell_type": "code",
   "execution_count": 14,
   "id": "0bcf1ca5-1467-4a63-835c-822b9aff0608",
   "metadata": {},
   "outputs": [
    {
     "name": "stdin",
     "output_type": "stream",
     "text": [
      "enter a string python\n"
     ]
    },
    {
     "name": "stdout",
     "output_type": "stream",
     "text": [
      "the string is:pythoning\n"
     ]
    }
   ],
   "source": [
    "#Add ‘ing’ at the end of a given string. If it already ends with ‘ing’, then add ‘ly’\n",
    "a=input(\"enter a string\")\n",
    "if a.endswith(\"ing\"):\n",
    "    a=a+\"ly\"\n",
    "else:\n",
    "    a=a+\"ing\"\n",
    "print(f\"the string is:{a}\")\n",
    "    "
   ]
  },
  {
   "cell_type": "code",
   "execution_count": null,
   "id": "8bad9f8b-6bce-495b-bf63-62dad0ea0eb3",
   "metadata": {},
   "outputs": [],
   "source": []
  }
 ],
 "metadata": {
  "kernelspec": {
   "display_name": "Python 3 (ipykernel)",
   "language": "python",
   "name": "python3"
  },
  "language_info": {
   "codemirror_mode": {
    "name": "ipython",
    "version": 3
   },
   "file_extension": ".py",
   "mimetype": "text/x-python",
   "name": "python",
   "nbconvert_exporter": "python",
   "pygments_lexer": "ipython3",
   "version": "3.11.7"
  }
 },
 "nbformat": 4,
 "nbformat_minor": 5
}
