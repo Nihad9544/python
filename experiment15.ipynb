{
 "cells": [
  {
   "cell_type": "code",
   "execution_count": 26,
   "id": "54fb3749-0b4f-4de8-9950-b54c304361c3",
   "metadata": {},
   "outputs": [
    {
     "name": "stdout",
     "output_type": "stream",
     "text": [
      "Enter detail of first rectangle\n"
     ]
    },
    {
     "name": "stdin",
     "output_type": "stream",
     "text": [
      "Enter length:  5\n",
      "Enter breadth:  7\n"
     ]
    },
    {
     "name": "stdout",
     "output_type": "stream",
     "text": [
      "Enter details for second rectangle\n"
     ]
    },
    {
     "name": "stdin",
     "output_type": "stream",
     "text": [
      "Enter length:  6\n",
      "Enter breadth:  8\n"
     ]
    },
    {
     "name": "stdout",
     "output_type": "stream",
     "text": [
      "Rectagle 2 is greater\n",
      "perimeter of rectangle 2 is  24.0\n"
     ]
    }
   ],
   "source": [
    "#. Create Rectangle class with attributes length and breadth andmethods to find area and perimeter. Compare two Rectangleobjects by their area.\n",
    "class Rectangle:\n",
    "    def get(self,l,b):\n",
    "        self.l=l\n",
    "        self.b=b\n",
    "    def area(self):    \n",
    "        return self.l*self.b\n",
    "    def perimeter(self):\n",
    "        return 2*(self.l+self.b)\n",
    "#object\n",
    "r1=Rectangle()\n",
    "r2=Rectangle()\n",
    "print(\"Enter detail of first rectangle\")\n",
    "l1 = float(input(\"Enter length: \"))\n",
    "b1 = float(input(\"Enter breadth: \"))\n",
    "print(\"Enter details for second rectangle\")\n",
    "l2 = float(input(\"Enter length: \"))\n",
    "b2 = float(input(\"Enter breadth: \"))\n",
    "r1.get(l1,b1)\n",
    "r2.get(l2,b2)\n",
    "p=r1.area()\n",
    "p2=r1.perimeter()\n",
    "q=r2.area()\n",
    "q2=r1.perimeter()\n",
    "if(p>q):\n",
    "    print(\"Rectangle 1 is greater\")\n",
    "    print(\"perimeter of rectangle 1 is \",p2)\n",
    "elif(p<q):\n",
    "    print(\"Rectagle 2 is greater\")\n",
    "    print(\"perimeter of rectangle 2 is \",q2)\n",
    "else:\n",
    "    print(\"Rectangles are equal\")\n",
    "    print(\"perimeter of rectangle 1 is \",p2)\n",
    "    print(\"perimeter of rectangle 1 is \",q2)\n",
    "\n",
    "     \n",
    "    "
   ]
  },
  {
   "cell_type": "code",
   "execution_count": null,
   "id": "5c7e67fd-04ff-4ee4-b3b6-881a4728eae6",
   "metadata": {},
   "outputs": [],
   "source": []
  }
 ],
 "metadata": {
  "kernelspec": {
   "display_name": "Python 3 (ipykernel)",
   "language": "python",
   "name": "python3"
  },
  "language_info": {
   "codemirror_mode": {
    "name": "ipython",
    "version": 3
   },
   "file_extension": ".py",
   "mimetype": "text/x-python",
   "name": "python",
   "nbconvert_exporter": "python",
   "pygments_lexer": "ipython3",
   "version": "3.11.7"
  }
 },
 "nbformat": 4,
 "nbformat_minor": 5
}
