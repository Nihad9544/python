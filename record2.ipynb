{
 "cells": [
  {
   "cell_type": "code",
   "execution_count": 3,
   "id": "a3ad541a-fea9-4b19-a9ce-14bb150f9258",
   "metadata": {},
   "outputs": [
    {
     "name": "stdin",
     "output_type": "stream",
     "text": [
      "enter celsius:  35\n"
     ]
    },
    {
     "name": "stdout",
     "output_type": "stream",
     "text": [
      "35.0celsius is equal to 95.0fahrenheit\n"
     ]
    }
   ],
   "source": [
    "#python program to convert celsius to fahrenheit\n",
    "celsius=float(input(\"enter celsius: \"))\n",
    "fahrenheit=celsius*9/5+32\n",
    "print(f\"{celsius}celsius is equal to {fahrenheit}fahrenheit\")\n"
   ]
  },
  {
   "cell_type": "code",
   "execution_count": 6,
   "id": "c19f9a05-0d98-4d53-ac5e-28e72a975bd6",
   "metadata": {},
   "outputs": [
    {
     "name": "stdin",
     "output_type": "stream",
     "text": [
      "enter distance in kilometers:  100\n"
     ]
    },
    {
     "name": "stdout",
     "output_type": "stream",
     "text": [
      "100.0kilometers is equal to 62.14 miles\n"
     ]
    }
   ],
   "source": [
    "#python program to convert kilometes to miles\n",
    "kilometers=float(input(\"enter distance in kilometers: \" ))\n",
    "miles=kilometers*0.621371\n",
    "print(f\"{kilometers}kilometers is equal to {round(miles,2)} miles\")"
   ]
  },
  {
   "cell_type": "code",
   "execution_count": null,
   "id": "5b00d8db-be1b-4b29-9a3b-b954a1b78ccd",
   "metadata": {},
   "outputs": [],
   "source": []
  }
 ],
 "metadata": {
  "kernelspec": {
   "display_name": "Python 3 (ipykernel)",
   "language": "python",
   "name": "python3"
  },
  "language_info": {
   "codemirror_mode": {
    "name": "ipython",
    "version": 3
   },
   "file_extension": ".py",
   "mimetype": "text/x-python",
   "name": "python",
   "nbconvert_exporter": "python",
   "pygments_lexer": "ipython3",
   "version": "3.11.7"
  }
 },
 "nbformat": 4,
 "nbformat_minor": 5
}
