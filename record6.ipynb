{
 "cells": [
  {
   "cell_type": "code",
   "execution_count": 9,
   "id": "430aab12-28c4-4384-bd65-24221ee2960e",
   "metadata": {},
   "outputs": [
    {
     "name": "stdin",
     "output_type": "stream",
     "text": [
      "enter values seperated by comma:  2,3,\"hi\",True,9,7\n"
     ]
    },
    {
     "name": "stdout",
     "output_type": "stream",
     "text": [
      "tuple is:('2', '3', '\"hi\"', 'True', '9', '7')\n",
      "third element is:\"hi\"\n",
      "third element from last is:True\n"
     ]
    }
   ],
   "source": [
    "#write a python program to get the 3rd element and 3rd element from last of a tuple\n",
    "a=tuple(input(\"enter values seperated by comma: \").split(','))\n",
    "print(f\"tuple is:{a}\")\n",
    "b=a[2]\n",
    "c=a[-3]\n",
    "print(f\"third element is:{b}\")\n",
    "print(f\"third element from last is:{c}\")"
   ]
  },
  {
   "cell_type": "code",
   "execution_count": 8,
   "id": "9ec696a3-0f4e-4208-bcf1-aa53d976d2bb",
   "metadata": {},
   "outputs": [
    {
     "name": "stdin",
     "output_type": "stream",
     "text": [
      "enter values seperated by comma:  1,2,3,4,5\n"
     ]
    },
    {
     "name": "stdout",
     "output_type": "stream",
     "text": [
      "tuple is:(1, 2, 3, 4, 5)\n",
      "average of all item in the taple is: 3.0\n"
     ]
    }
   ],
   "source": [
    "#accepts asequence of cooma-seperated numbers from user and generate a tuple with those and find sum all items\n",
    "a=tuple(map(int,input(\"enter values seperated by comma: \").split(',')))\n",
    "print(f\"tuple is:{a}\")\n",
    "b=sum(a)/len(a)\n",
    "\n",
    "print(f\"average of all item in the taple is: {b}\")"
   ]
  },
  {
   "cell_type": "code",
   "execution_count": null,
   "id": "2266cec8-fa17-4a6e-b7b8-cc440355bb69",
   "metadata": {},
   "outputs": [],
   "source": []
  }
 ],
 "metadata": {
  "kernelspec": {
   "display_name": "Python 3 (ipykernel)",
   "language": "python",
   "name": "python3"
  },
  "language_info": {
   "codemirror_mode": {
    "name": "ipython",
    "version": 3
   },
   "file_extension": ".py",
   "mimetype": "text/x-python",
   "name": "python",
   "nbconvert_exporter": "python",
   "pygments_lexer": "ipython3",
   "version": "3.11.7"
  }
 },
 "nbformat": 4,
 "nbformat_minor": 5
}
