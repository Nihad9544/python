{
 "cells": [
  {
   "cell_type": "code",
   "execution_count": 2,
   "id": "bf3b2af5-809e-4d00-b613-6ef3cd946a25",
   "metadata": {},
   "outputs": [
    {
     "name": "stdin",
     "output_type": "stream",
     "text": [
      "enter fist set colors: yellow,orange,red,blue\n",
      "enter second set colors: yellow,black,red,blue\n"
     ]
    },
    {
     "name": "stdout",
     "output_type": "stream",
     "text": [
      "first color set :{'yellow', 'red', 'orange', 'blue'}\n",
      "second color set {'yellow', 'black', 'red', 'blue'}\n",
      "color from set1 not in set2:{'orange'}\n"
     ]
    }
   ],
   "source": [
    "#write a python program to printout all colors from color set 1 not contained in color set2.\n",
    "color_set1=input(\"enter fist set colors:\")\n",
    "color_set2=input(\"enter second set colors:\")\n",
    "a=set(color_set1.split(','))\n",
    "b=set(color_set2.split(','))\n",
    "c=a-b\n",
    "print(f\"first color set :{a}\")\n",
    "print(f\"second color set {b}\")\n",
    "print(f\"color from set1 not in set2:{c}\")"
   ]
  },
  {
   "cell_type": "code",
   "execution_count": 3,
   "id": "7ce7d9a3-3e61-46e8-b1e6-fb0bc0cde5dd",
   "metadata": {},
   "outputs": [
    {
     "name": "stdin",
     "output_type": "stream",
     "text": [
      "enter fist set colors: yellow,orange,red,blue\n",
      "enter second set colors: yellow,black,red,blue\n"
     ]
    },
    {
     "name": "stdout",
     "output_type": "stream",
     "text": [
      "first color set :{'yellow', 'red', 'orange', 'blue'}\n",
      "second color set {'yellow', 'black', 'red', 'blue'}\n",
      "all color in set1 and set2:{'yellow', 'blue', 'black', 'red', 'orange'}\n"
     ]
    }
   ],
   "source": [
    "#write a python program to printout all colors from color set 1 and color set 2\n",
    "color_set1=input(\"enter fist set colors:\")\n",
    "color_set2=input(\"enter second set colors:\")\n",
    "a=set(color_set1.split(','))\n",
    "b=set(color_set2.split(','))\n",
    "c=a | b\n",
    "print(f\"first color set :{a}\")\n",
    "print(f\"second color set {b}\")\n",
    "print(f\"all color in set1 and set2:{c}\")"
   ]
  },
  {
   "cell_type": "code",
   "execution_count": null,
   "id": "c9f15507-0307-409c-9aef-ba8fa9122f43",
   "metadata": {},
   "outputs": [],
   "source": []
  }
 ],
 "metadata": {
  "kernelspec": {
   "display_name": "Python 3 (ipykernel)",
   "language": "python",
   "name": "python3"
  },
  "language_info": {
   "codemirror_mode": {
    "name": "ipython",
    "version": 3
   },
   "file_extension": ".py",
   "mimetype": "text/x-python",
   "name": "python",
   "nbconvert_exporter": "python",
   "pygments_lexer": "ipython3",
   "version": "3.11.7"
  }
 },
 "nbformat": 4,
 "nbformat_minor": 5
}
